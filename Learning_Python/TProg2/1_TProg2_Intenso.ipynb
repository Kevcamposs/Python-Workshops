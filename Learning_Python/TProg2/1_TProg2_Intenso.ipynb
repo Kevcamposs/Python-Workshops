{
  "nbformat": 4,
  "nbformat_minor": 0,
  "metadata": {
    "colab": {
      "provenance": []
    },
    "kernelspec": {
      "name": "python3",
      "display_name": "Python 3"
    },
    "language_info": {
      "name": "python"
    }
  },
  "cells": [
    {
      "cell_type": "markdown",
      "source": [
        "# <font color='green' size=6 > Repaso intensivo de Python\n",
        "\n",
        "Elaborado por **Kevin Campos Sánchez**\n",
        "\n",
        "Ayudante de cátedra del curso **TÉCNICAS DE PROGRAMACIÓN II** durante el ciclo académico 2022-II.\n",
        "\n",
        "Universidad Nacional Agraria La Molina, Lima-Perú\n",
        "\n",
        "04/10/2022"
      ],
      "metadata": {
        "id": "Su8g-ueIrgaE"
      }
    },
    {
      "cell_type": "markdown",
      "source": [
        "## <font color='blue'> Tipos de datos"
      ],
      "metadata": {
        "id": "Z-ZbJ-oBie-n"
      }
    },
    {
      "cell_type": "code",
      "execution_count": null,
      "metadata": {
        "colab": {
          "base_uri": "https://localhost:8080/",
          "height": 300
        },
        "id": "_pBCwpi7ujOC",
        "outputId": "8de9913c-048b-4adf-e3e1-6764be3deb5b"
      },
      "outputs": [
        {
          "output_type": "execute_result",
          "data": {
            "text/plain": [
              "       Fecha        Día  PP [mm]  TMAX [°C]  TMIN [°C]  HR [%]\n",
              "0 2022-01-31      Lunes      0.0       21.2       16.3      98\n",
              "1 2022-02-28      Lunes      0.1       21.3       18.2      99\n",
              "2 2022-03-31     Jueves      0.0       20.6       19.8     100\n",
              "3 2022-04-30     Sábado      0.0       20.0       20.1      96\n",
              "4 2022-05-31     Martes      NaN       21.0        NaN      95\n",
              "5 2022-06-30     Jueves      1.1       20.8       17.5      96\n",
              "6 2022-07-31    Domingo      2.0       20.9       16.4      98\n",
              "7 2022-08-31  Miércoles      2.4       20.4       18.9      94"
            ],
            "text/html": [
              "\n",
              "  <div id=\"df-afe43c14-d016-40b0-a1df-0273551ea97b\">\n",
              "    <div class=\"colab-df-container\">\n",
              "      <div>\n",
              "<style scoped>\n",
              "    .dataframe tbody tr th:only-of-type {\n",
              "        vertical-align: middle;\n",
              "    }\n",
              "\n",
              "    .dataframe tbody tr th {\n",
              "        vertical-align: top;\n",
              "    }\n",
              "\n",
              "    .dataframe thead th {\n",
              "        text-align: right;\n",
              "    }\n",
              "</style>\n",
              "<table border=\"1\" class=\"dataframe\">\n",
              "  <thead>\n",
              "    <tr style=\"text-align: right;\">\n",
              "      <th></th>\n",
              "      <th>Fecha</th>\n",
              "      <th>Día</th>\n",
              "      <th>PP [mm]</th>\n",
              "      <th>TMAX [°C]</th>\n",
              "      <th>TMIN [°C]</th>\n",
              "      <th>HR [%]</th>\n",
              "    </tr>\n",
              "  </thead>\n",
              "  <tbody>\n",
              "    <tr>\n",
              "      <th>0</th>\n",
              "      <td>2022-01-31</td>\n",
              "      <td>Lunes</td>\n",
              "      <td>0.0</td>\n",
              "      <td>21.2</td>\n",
              "      <td>16.3</td>\n",
              "      <td>98</td>\n",
              "    </tr>\n",
              "    <tr>\n",
              "      <th>1</th>\n",
              "      <td>2022-02-28</td>\n",
              "      <td>Lunes</td>\n",
              "      <td>0.1</td>\n",
              "      <td>21.3</td>\n",
              "      <td>18.2</td>\n",
              "      <td>99</td>\n",
              "    </tr>\n",
              "    <tr>\n",
              "      <th>2</th>\n",
              "      <td>2022-03-31</td>\n",
              "      <td>Jueves</td>\n",
              "      <td>0.0</td>\n",
              "      <td>20.6</td>\n",
              "      <td>19.8</td>\n",
              "      <td>100</td>\n",
              "    </tr>\n",
              "    <tr>\n",
              "      <th>3</th>\n",
              "      <td>2022-04-30</td>\n",
              "      <td>Sábado</td>\n",
              "      <td>0.0</td>\n",
              "      <td>20.0</td>\n",
              "      <td>20.1</td>\n",
              "      <td>96</td>\n",
              "    </tr>\n",
              "    <tr>\n",
              "      <th>4</th>\n",
              "      <td>2022-05-31</td>\n",
              "      <td>Martes</td>\n",
              "      <td>NaN</td>\n",
              "      <td>21.0</td>\n",
              "      <td>NaN</td>\n",
              "      <td>95</td>\n",
              "    </tr>\n",
              "    <tr>\n",
              "      <th>5</th>\n",
              "      <td>2022-06-30</td>\n",
              "      <td>Jueves</td>\n",
              "      <td>1.1</td>\n",
              "      <td>20.8</td>\n",
              "      <td>17.5</td>\n",
              "      <td>96</td>\n",
              "    </tr>\n",
              "    <tr>\n",
              "      <th>6</th>\n",
              "      <td>2022-07-31</td>\n",
              "      <td>Domingo</td>\n",
              "      <td>2.0</td>\n",
              "      <td>20.9</td>\n",
              "      <td>16.4</td>\n",
              "      <td>98</td>\n",
              "    </tr>\n",
              "    <tr>\n",
              "      <th>7</th>\n",
              "      <td>2022-08-31</td>\n",
              "      <td>Miércoles</td>\n",
              "      <td>2.4</td>\n",
              "      <td>20.4</td>\n",
              "      <td>18.9</td>\n",
              "      <td>94</td>\n",
              "    </tr>\n",
              "  </tbody>\n",
              "</table>\n",
              "</div>\n",
              "      <button class=\"colab-df-convert\" onclick=\"convertToInteractive('df-afe43c14-d016-40b0-a1df-0273551ea97b')\"\n",
              "              title=\"Convert this dataframe to an interactive table.\"\n",
              "              style=\"display:none;\">\n",
              "        \n",
              "  <svg xmlns=\"http://www.w3.org/2000/svg\" height=\"24px\"viewBox=\"0 0 24 24\"\n",
              "       width=\"24px\">\n",
              "    <path d=\"M0 0h24v24H0V0z\" fill=\"none\"/>\n",
              "    <path d=\"M18.56 5.44l.94 2.06.94-2.06 2.06-.94-2.06-.94-.94-2.06-.94 2.06-2.06.94zm-11 1L8.5 8.5l.94-2.06 2.06-.94-2.06-.94L8.5 2.5l-.94 2.06-2.06.94zm10 10l.94 2.06.94-2.06 2.06-.94-2.06-.94-.94-2.06-.94 2.06-2.06.94z\"/><path d=\"M17.41 7.96l-1.37-1.37c-.4-.4-.92-.59-1.43-.59-.52 0-1.04.2-1.43.59L10.3 9.45l-7.72 7.72c-.78.78-.78 2.05 0 2.83L4 21.41c.39.39.9.59 1.41.59.51 0 1.02-.2 1.41-.59l7.78-7.78 2.81-2.81c.8-.78.8-2.07 0-2.86zM5.41 20L4 18.59l7.72-7.72 1.47 1.35L5.41 20z\"/>\n",
              "  </svg>\n",
              "      </button>\n",
              "      \n",
              "  <style>\n",
              "    .colab-df-container {\n",
              "      display:flex;\n",
              "      flex-wrap:wrap;\n",
              "      gap: 12px;\n",
              "    }\n",
              "\n",
              "    .colab-df-convert {\n",
              "      background-color: #E8F0FE;\n",
              "      border: none;\n",
              "      border-radius: 50%;\n",
              "      cursor: pointer;\n",
              "      display: none;\n",
              "      fill: #1967D2;\n",
              "      height: 32px;\n",
              "      padding: 0 0 0 0;\n",
              "      width: 32px;\n",
              "    }\n",
              "\n",
              "    .colab-df-convert:hover {\n",
              "      background-color: #E2EBFA;\n",
              "      box-shadow: 0px 1px 2px rgba(60, 64, 67, 0.3), 0px 1px 3px 1px rgba(60, 64, 67, 0.15);\n",
              "      fill: #174EA6;\n",
              "    }\n",
              "\n",
              "    [theme=dark] .colab-df-convert {\n",
              "      background-color: #3B4455;\n",
              "      fill: #D2E3FC;\n",
              "    }\n",
              "\n",
              "    [theme=dark] .colab-df-convert:hover {\n",
              "      background-color: #434B5C;\n",
              "      box-shadow: 0px 1px 3px 1px rgba(0, 0, 0, 0.15);\n",
              "      filter: drop-shadow(0px 1px 2px rgba(0, 0, 0, 0.3));\n",
              "      fill: #FFFFFF;\n",
              "    }\n",
              "  </style>\n",
              "\n",
              "      <script>\n",
              "        const buttonEl =\n",
              "          document.querySelector('#df-afe43c14-d016-40b0-a1df-0273551ea97b button.colab-df-convert');\n",
              "        buttonEl.style.display =\n",
              "          google.colab.kernel.accessAllowed ? 'block' : 'none';\n",
              "\n",
              "        async function convertToInteractive(key) {\n",
              "          const element = document.querySelector('#df-afe43c14-d016-40b0-a1df-0273551ea97b');\n",
              "          const dataTable =\n",
              "            await google.colab.kernel.invokeFunction('convertToInteractive',\n",
              "                                                     [key], {});\n",
              "          if (!dataTable) return;\n",
              "\n",
              "          const docLinkHtml = 'Like what you see? Visit the ' +\n",
              "            '<a target=\"_blank\" href=https://colab.research.google.com/notebooks/data_table.ipynb>data table notebook</a>'\n",
              "            + ' to learn more about interactive tables.';\n",
              "          element.innerHTML = '';\n",
              "          dataTable['output_type'] = 'display_data';\n",
              "          await google.colab.output.renderOutput(dataTable, element);\n",
              "          const docLink = document.createElement('div');\n",
              "          docLink.innerHTML = docLinkHtml;\n",
              "          element.appendChild(docLink);\n",
              "        }\n",
              "      </script>\n",
              "    </div>\n",
              "  </div>\n",
              "  "
            ]
          },
          "metadata": {},
          "execution_count": 34
        }
      ],
      "source": [
        "import pandas as pd, numpy as np\n",
        "from datetime import datetime\n",
        "\n",
        "dict_ = {'Fecha': pd.date_range(start = '01-01-2022', freq = 'm', periods = 8),\n",
        "         'Día': ['Lunes', 'Lunes', 'Jueves', 'Sábado', 'Martes', 'Jueves', 'Domingo', 'Miércoles'],\n",
        "         'PP [mm]': [0., 0.1, 0., 0., np.nan, 1.1, 2.0, 2.4], \n",
        "         'TMAX [°C]': [21.2, 21.3, 20.6, 20.0, 21.0, 20.8, 20.9, 20.4],\n",
        "         'TMIN [°C]': [16.3, 18.2, 19.8, 20.1, np.nan, 17.5, 16.4, 18.9],\n",
        "         'HR [%]': [98, 99, 100, 96, 95, 96, 98, 94]}\n",
        "\n",
        "df = pd.DataFrame(dict_)\n",
        "# df['Llovió'] = df['PP [mm]'] > 0.\n",
        "# df['Coherencia'] = df['TMAX [°C]'] > df['TMIN [°C]']\n",
        "df"
      ]
    },
    {
      "cell_type": "code",
      "source": [
        "# Numéricos\n",
        "1    # int\n",
        "1.5  # float (decimal)\n",
        "\n",
        "# Carácteres (string)\n",
        "'hola'\n",
        "\"mundo\"\n",
        "\n",
        "letras = 'A mí me dicen \"el zhaval\".'\n",
        "\n",
        "'''\n",
        "hola\n",
        "mundo\n",
        "en varias líneas\n",
        "'''\n",
        "\n",
        "# Booleano\n",
        "True\n",
        "False"
      ],
      "metadata": {
        "id": "pLO5SL9yBBxm",
        "colab": {
          "base_uri": "https://localhost:8080/"
        },
        "outputId": "64c20317-de68-4434-f85c-d1a898f9f33c"
      },
      "execution_count": null,
      "outputs": [
        {
          "output_type": "execute_result",
          "data": {
            "text/plain": [
              "False"
            ]
          },
          "metadata": {},
          "execution_count": 35
        }
      ]
    },
    {
      "cell_type": "markdown",
      "source": [
        "### Conversión entre tipos de datos"
      ],
      "metadata": {
        "id": "o9pD9TOPjB93"
      }
    },
    {
      "cell_type": "code",
      "source": [
        "# Calculadora 1: \n",
        "num_1 = input('Inserte número 1: ')\n",
        "num_2 = input('Inserte número 2: ')\n",
        "\n",
        "num_3 = num_1 + num_2   # incorrecto\n",
        "print(num_3)"
      ],
      "metadata": {
        "colab": {
          "base_uri": "https://localhost:8080/"
        },
        "id": "Rbt6WIDfAdEW",
        "outputId": "74d39fda-772d-4255-ba8c-38859343c688"
      },
      "execution_count": null,
      "outputs": [
        {
          "output_type": "stream",
          "name": "stdout",
          "text": [
            "Inserte número 1: 7\n",
            "Inserte número 2: 9\n",
            "79\n"
          ]
        }
      ]
    },
    {
      "cell_type": "code",
      "source": [
        "# Calculadora 2\n",
        "num_1 = input('Inserte número 1: ')\n",
        "num_2 = input('Inserte número 2: ')\n",
        "\n",
        "num_3 = int(num_1) + int(num_2) # correcto\n",
        "print(num_3)"
      ],
      "metadata": {
        "colab": {
          "base_uri": "https://localhost:8080/"
        },
        "id": "tE-xY94XC-m8",
        "outputId": "a950b875-c890-4a72-dc50-a3404a41177d"
      },
      "execution_count": null,
      "outputs": [
        {
          "output_type": "stream",
          "name": "stdout",
          "text": [
            "Inserte número 1: 7\n",
            "Inserte número 2: 9\n",
            "16\n"
          ]
        }
      ]
    },
    {
      "cell_type": "markdown",
      "source": [
        "## <font color='blue'> Estructura de datos\n"
      ],
      "metadata": {
        "id": "Q-3FDDVljIhw"
      }
    },
    {
      "cell_type": "markdown",
      "source": [
        "#### Crear"
      ],
      "metadata": {
        "id": "b0Km0fWOkk55"
      }
    },
    {
      "cell_type": "code",
      "source": [
        "# listas y tuplas\n",
        "lista = [True, 'hola', 1, 1.5]  # Corchetes [], mutable\n",
        "tupla = (True, 'hola', 1, 1.5)  # Paréntesis (), inmutable, + eficiente\n",
        "\n",
        "# Diccionarios\n",
        "Diccionario = {0: True, 'Llave 2': 1, 'Llave 3': 3.52141}  # {}\n",
        "\n",
        "print('Lista: ', lista)\n",
        "print('Tupla: ', tupla)\n",
        "print('Diccionario: ', Diccionario)"
      ],
      "metadata": {
        "colab": {
          "base_uri": "https://localhost:8080/"
        },
        "id": "t5Vxi6SjjOHq",
        "outputId": "462e2a96-c921-4a75-adda-02731183e504"
      },
      "execution_count": 1,
      "outputs": [
        {
          "output_type": "stream",
          "name": "stdout",
          "text": [
            "Lista:  [True, 'hola', 1, 1.5]\n",
            "Tupla:  (True, 'hola', 1, 1.5)\n",
            "Diccionario:  {0: True, 'Llave 2': 1, 'Llave 3': 3.52141}\n"
          ]
        }
      ]
    },
    {
      "cell_type": "markdown",
      "source": [
        "#### Seleccionar elemento"
      ],
      "metadata": {
        "id": "d1gLcWNrkpck"
      }
    },
    {
      "cell_type": "code",
      "source": [
        "lista_ = lista[0]\n",
        "tupla_ = tupla[0:2]\n",
        "Diccionario_ = Diccionario['Llave 2']\n",
        "\n",
        "print('Lista: ', lista_)\n",
        "print('Tupla: ', tupla_)\n",
        "print('Diccionario: ', Diccionario_)"
      ],
      "metadata": {
        "colab": {
          "base_uri": "https://localhost:8080/"
        },
        "id": "hYFcxJtUjU6X",
        "outputId": "4de8d92e-4868-4424-bb3e-d580b32fa1b8"
      },
      "execution_count": null,
      "outputs": [
        {
          "output_type": "stream",
          "name": "stdout",
          "text": [
            "Lista:  True\n",
            "Tupla:  (True, 'hola')\n",
            "Diccionario:  1\n"
          ]
        }
      ]
    },
    {
      "cell_type": "markdown",
      "source": [
        "#### Agregar elemento"
      ],
      "metadata": {
        "id": "EKrRp9l3lYX1"
      }
    },
    {
      "cell_type": "code",
      "source": [
        "print('Lista: ', lista)\n",
        "print('Diccionario: ', Diccionario, '\\n')\n",
        "\n",
        "#==================================================\n",
        "lista.append('Nuevo dato')\n",
        "Diccionario['Nueva llave'] = 'Nuevo valor'\n",
        "\n",
        "print('Lista: ', lista)\n",
        "print('Diccionario: ', Diccionario)"
      ],
      "metadata": {
        "colab": {
          "base_uri": "https://localhost:8080/"
        },
        "id": "LzDB1MBwlcw1",
        "outputId": "4d3ea3f9-e5de-4f9e-fde7-181fe50916df"
      },
      "execution_count": null,
      "outputs": [
        {
          "output_type": "stream",
          "name": "stdout",
          "text": [
            "Lista:  [True, 'hola', 1, 1.5]\n",
            "Diccionario:  {0: True, 'Llave 2': 1, 'Llave 3': 3.52141} \n",
            "\n",
            "Lista:  [True, 'hola', 1, 1.5, 'Nuevo dato']\n",
            "Diccionario:  {0: True, 'Llave 2': 1, 'Llave 3': 3.52141, 'Nueva llave': 'Nuevo valor'}\n"
          ]
        }
      ]
    },
    {
      "cell_type": "markdown",
      "source": [
        "#### Eliminar elemento"
      ],
      "metadata": {
        "id": "lItxe5c_mMOx"
      }
    },
    {
      "cell_type": "code",
      "source": [
        "print('Lista: ', lista)\n",
        "print('Diccionario: ', Diccionario, '\\n')\n",
        "\n",
        "#==================================================\n",
        "lista.remove('Nuevo dato')\n",
        "del Diccionario['Nueva llave']\n",
        "\n",
        "print('Lista: ', lista)\n",
        "print('Diccionario: ', Diccionario)"
      ],
      "metadata": {
        "colab": {
          "base_uri": "https://localhost:8080/"
        },
        "id": "aiRHZ3WsmQjP",
        "outputId": "57027ade-e82e-4469-8070-aceb88a97d44"
      },
      "execution_count": null,
      "outputs": [
        {
          "output_type": "stream",
          "name": "stdout",
          "text": [
            "Lista:  [True, 'hola', 1, 1.5, 'Nuevo dato']\n",
            "Diccionario:  {0: True, 'Llave 2': 1, 'Llave 3': 3.52141, 'Nueva llave': 'Nuevo valor'} \n",
            "\n",
            "Lista:  [True, 'hola', 1, 1.5]\n",
            "Diccionario:  {0: True, 'Llave 2': 1, 'Llave 3': 3.52141}\n"
          ]
        }
      ]
    },
    {
      "cell_type": "markdown",
      "source": [
        "#### Ordenar elementos"
      ],
      "metadata": {
        "id": "OTiHlupxmuK_"
      }
    },
    {
      "cell_type": "code",
      "source": [
        "lista_2 = [10, 1, 5, 90]\n",
        "Diccionario_2 = {0:'cero', 5:'cinco', 1:'uno', 10:'diez'}\n",
        "\n",
        "print('Lista: ', lista_2)\n",
        "print('Diccionario: ', Diccionario_2, '\\n')\n",
        "\n",
        "#==================================================\n",
        "lista_2.sort()          # Inplace\n",
        "Dict_sort_1 = sorted(Diccionario_2.items(), key = lambda Diccionario_2: Diccionario_2[0])   # No inplace\n",
        "Dict_sort_2 = sorted(Diccionario_2.items(), key = lambda Diccionario_2: Diccionario_2[1])   # No inplace\n",
        "\n",
        "print('Lista: ', lista_2)\n",
        "print('Diccionario: ', Dict_sort_1)\n",
        "print('Diccionario: ', Dict_sort_2)"
      ],
      "metadata": {
        "colab": {
          "base_uri": "https://localhost:8080/"
        },
        "id": "DFwkIXmWmsGT",
        "outputId": "c6cce67c-6280-431a-f771-eeffda334eea"
      },
      "execution_count": 2,
      "outputs": [
        {
          "output_type": "stream",
          "name": "stdout",
          "text": [
            "Lista:  [10, 1, 5, 90]\n",
            "Diccionario:  {0: 'cero', 5: 'cinco', 1: 'uno', 10: 'diez'} \n",
            "\n",
            "Lista:  [1, 5, 10, 90]\n",
            "Diccionario:  [(0, 'cero'), (1, 'uno'), (5, 'cinco'), (10, 'diez')]\n",
            "Diccionario:  [(0, 'cero'), (5, 'cinco'), (10, 'diez'), (1, 'uno')]\n"
          ]
        }
      ]
    },
    {
      "cell_type": "markdown",
      "source": [
        "#### Unir"
      ],
      "metadata": {
        "id": "pCDrcJbxqwkK"
      }
    },
    {
      "cell_type": "code",
      "source": [
        "print(f'Listas: {lista}   {lista_2}')\n",
        "print(f'Listas concatenadas: {lista + lista_2}')\n",
        "\n",
        "print('\\n')\n",
        "\n",
        "print(f'Diccionarios: {Diccionario}     {Diccionario_2}')\n",
        "Diccionario.update(Diccionario_2)\n",
        "print(f'Diccionarios concatenados: {Diccionario}')"
      ],
      "metadata": {
        "colab": {
          "base_uri": "https://localhost:8080/"
        },
        "id": "JX4dFbErqwJE",
        "outputId": "e183519f-52f4-4384-93b5-6fbfbad41284"
      },
      "execution_count": 3,
      "outputs": [
        {
          "output_type": "stream",
          "name": "stdout",
          "text": [
            "Listas: [True, 'hola', 1, 1.5]   [1, 5, 10, 90]\n",
            "Listas concatenadas: [True, 'hola', 1, 1.5, 1, 5, 10, 90]\n",
            "\n",
            "\n",
            "Diccionarios: {0: True, 'Llave 2': 1, 'Llave 3': 3.52141}     {0: 'cero', 5: 'cinco', 1: 'uno', 10: 'diez'}\n",
            "Diccionarios concatenados: {0: 'cero', 'Llave 2': 1, 'Llave 3': 3.52141, 5: 'cinco', 1: 'uno', 10: 'diez'}\n"
          ]
        }
      ]
    },
    {
      "cell_type": "markdown",
      "source": [
        "## <font color='blue'> Condicionales"
      ],
      "metadata": {
        "id": "XC5t_Pf9sNIk"
      }
    },
    {
      "cell_type": "code",
      "source": [
        "ga = int(input(\"Inserte un número: \"))\n",
        "\n",
        "if ga == 1:         # Si ga es igual a 1\n",
        "    print('Uno')\n",
        "\n",
        "elif ga == 2:       # Si ga es igual a 2\n",
        "    print('Dos')\n",
        "\n",
        "elif ga == 3:       # Si ga es igual a 3\n",
        "    print('Tres')\n",
        "\n",
        "else:               # Para todo lo demás\n",
        "    print('Existe MasterCard')"
      ],
      "metadata": {
        "colab": {
          "base_uri": "https://localhost:8080/"
        },
        "id": "mKHzujSlsd-K",
        "outputId": "f3d035f1-b1cb-4dd2-9a0b-4b55006b89b8"
      },
      "execution_count": null,
      "outputs": [
        {
          "output_type": "stream",
          "name": "stdout",
          "text": [
            "Inserte un número: 1\n",
            "Uno\n"
          ]
        }
      ]
    },
    {
      "cell_type": "code",
      "source": [
        "day = int(input('Inserte un día de la semana: '))\n",
        "if ga == 1:         # Si ga es igual a 1\n",
        "    print('Lunes')\n",
        "\n",
        "elif ga == 2:       # Si ga es igual a 2\n",
        "    print('Martes')\n",
        "\n",
        "elif ga == 3:       # Si ga es igual a 3\n",
        "    print('Miércoles')\n",
        "\n",
        "elif ga == 4:       # Si ga es igual a 4\n",
        "    print('Jueves')\n",
        "\n",
        "elif ga == 5:       # Si ga es igual a 5\n",
        "    print('Viernes')\n",
        "\n",
        "elif ga == 6:       # Si ga es igual a 6\n",
        "    print('Sábado')\n",
        "\n",
        "elif ga == 7:       # Si ga es igual a 7\n",
        "    print('Domingo')\n",
        "\n",
        "else:               # Para todo lo demás\n",
        "    print('Inserte un número entre 1 a 7')"
      ],
      "metadata": {
        "id": "6Fx6N5pyYySA"
      },
      "execution_count": null,
      "outputs": []
    },
    {
      "cell_type": "markdown",
      "source": [
        "## <font color='blue'> Bucles"
      ],
      "metadata": {
        "id": "L1C8QBy9sgPd"
      }
    },
    {
      "cell_type": "markdown",
      "source": [
        "#### While"
      ],
      "metadata": {
        "id": "zfvqdAizZgVr"
      }
    },
    {
      "cell_type": "code",
      "source": [
        "# Construye un bucle while que imprima todos \n",
        "# los meses con su climatología mensual de temperatura máxima\n",
        "\n",
        "Meses = {0:'Enero', 1:'Febrero', 2:'Marzo', 3:'Abril', 4:'Mayo', 5:'Junio',\n",
        "            6:'Julio', 7:'Agosto', 8:'Setiembre', 9:'Octubre', 10:'Noviembre', 11:'Diciembre'}\n",
        "Normal_T = {0: 32.4, 1: 31.0, 2: 30.8, 3: 29.7, 4: 28.6, 5: 27.4,\n",
        "            6: 27.0, 7: 27.9, 8: 28.2, 9: 29.1, 10: 30.1, 11: 31.8}\n",
        "\n",
        "i = 0\n",
        "while i < 12:\n",
        "    if (i == 0 or i == 1 or i == 11):\n",
        "        print(f'{Meses[i]}: {Normal_T[i]}')\n",
        "    # i = i + 1\n",
        "    i += 1"
      ],
      "metadata": {
        "id": "UqOlQH9UZerN",
        "colab": {
          "base_uri": "https://localhost:8080/"
        },
        "outputId": "f36858a9-4ec7-46d7-ee70-4f6da5e36bb3"
      },
      "execution_count": null,
      "outputs": [
        {
          "output_type": "stream",
          "name": "stdout",
          "text": [
            "Enero: 32.4\n",
            "Febrero: 31.0\n",
            "Diciembre: 31.8\n"
          ]
        }
      ]
    },
    {
      "cell_type": "code",
      "source": [
        "# x2 a lo anterior, pero solo en los meses de verano\n"
      ],
      "metadata": {
        "id": "N9t7f6iTgBBz"
      },
      "execution_count": null,
      "outputs": []
    },
    {
      "cell_type": "code",
      "source": [
        "# ¿Es un bucle infinito?\n",
        "\n",
        "while 1 <= 10:\n",
        "    print('ABCD')\n",
        "\n",
        "while True:\n",
        "    print('ABCD')\n",
        "\n",
        "i = 0\n",
        "while i != 10:\n",
        "    print('ABCD')\n",
        "\n",
        "i = 0\n",
        "while i != 10:\n",
        "    print('ABCD')\n",
        "    i = i + 2\n",
        "\n",
        "while 10:\n",
        "    print('ABCD')\n",
        "\n",
        "Soy_un_bucle_infinito = None\n",
        "while Soy_un_bucle_infinito:\n",
        "    print('ABCD')"
      ],
      "metadata": {
        "id": "KV0C4Gx2aTjf"
      },
      "execution_count": null,
      "outputs": []
    },
    {
      "cell_type": "code",
      "source": [
        "Soy_un_bucle_infinito = None\n",
        "while Soy_un_bucle_infinito:\n",
        "    print('ABCD')"
      ],
      "metadata": {
        "id": "mewDb5bjKPNY"
      },
      "execution_count": null,
      "outputs": []
    },
    {
      "cell_type": "markdown",
      "source": [
        "#### For"
      ],
      "metadata": {
        "id": "EFF5BWKleYUK"
      }
    },
    {
      "cell_type": "code",
      "source": [
        "# Construye un bucle for que imprima todos los días de la semana, \n",
        "# usando como referencia el siguiente diccionario\n",
        "\n",
        "Days = {0:'Lunes', 1: 'Martes', 2:'Miércoles', 3:'Jueves', \n",
        "        4:'Viernes', 5:'Sábados', 6:'Domingo'}\n",
        "\n",
        "for i in range(0, 7):\n",
        "    print(i)\n"
      ],
      "metadata": {
        "id": "oDcf2goBeZpz",
        "colab": {
          "base_uri": "https://localhost:8080/"
        },
        "outputId": "81f99b68-36ce-44ee-d3cf-895d76064e40"
      },
      "execution_count": null,
      "outputs": [
        {
          "output_type": "stream",
          "name": "stdout",
          "text": [
            "0\n",
            "1\n",
            "2\n",
            "3\n",
            "4\n",
            "5\n",
            "6\n"
          ]
        }
      ]
    },
    {
      "cell_type": "code",
      "source": [
        "tuple(range(0, 10))"
      ],
      "metadata": {
        "colab": {
          "base_uri": "https://localhost:8080/"
        },
        "id": "hB56q_VoKmyX",
        "outputId": "03db67a1-facb-470b-8906-c65300c531c6"
      },
      "execution_count": null,
      "outputs": [
        {
          "output_type": "execute_result",
          "data": {
            "text/plain": [
              "(0, 1, 2, 3, 4, 5, 6, 7, 8, 9)"
            ]
          },
          "metadata": {},
          "execution_count": 20
        }
      ]
    },
    {
      "cell_type": "code",
      "source": [
        "# Construye un bucle for que imprima la tabla de 7\n"
      ],
      "metadata": {
        "id": "gWQseWcieuW5"
      },
      "execution_count": null,
      "outputs": []
    },
    {
      "cell_type": "markdown",
      "source": [
        "## <font color='blue'> Comprehensions"
      ],
      "metadata": {
        "id": "6nKV5muCZcC0"
      }
    },
    {
      "cell_type": "code",
      "source": [
        "# Constuya una lista, tupla y diccionario con valores del 0 al 9. Aplique comprehenson\n",
        "List_compreh = [x for x in range(0,1000)]\n",
        "\n",
        "tuple_compreh = tuple(x for x in range(0,1000))\n",
        "\n",
        "dict_compreh =  {x:(x+1) for x in range(0,10)}\n",
        "print(dict_compreh)"
      ],
      "metadata": {
        "id": "4IExp8AxgcZC",
        "colab": {
          "base_uri": "https://localhost:8080/"
        },
        "outputId": "2e5976e5-ee75-483f-9199-1ca833dd7601"
      },
      "execution_count": null,
      "outputs": [
        {
          "output_type": "stream",
          "name": "stdout",
          "text": [
            "{0: 1, 1: 2, 2: 3, 3: 4, 4: 5, 5: 6, 6: 7, 7: 8, 8: 9, 9: 10}\n"
          ]
        }
      ]
    },
    {
      "cell_type": "code",
      "source": [
        "# Construya una lista con valores pares del 0 al 10\n",
        "[x for x in range(0,10+1) if x % 2 == 0]\n",
        "\n",
        "# [x if x % 2 == 0 else 'A' for x in range(0,120+1)]"
      ],
      "metadata": {
        "id": "LUa9gAwug829",
        "colab": {
          "base_uri": "https://localhost:8080/"
        },
        "outputId": "2f138d33-d704-446f-e514-434a11a83fb4"
      },
      "execution_count": null,
      "outputs": [
        {
          "output_type": "execute_result",
          "data": {
            "text/plain": [
              "[0, 2, 4, 6, 8, 10]"
            ]
          },
          "metadata": {},
          "execution_count": 41
        }
      ]
    },
    {
      "cell_type": "code",
      "source": [
        "a = [x if x%2==0 else x+1 for x in range(120)]\n",
        "a"
      ],
      "metadata": {
        "id": "lRL_cm0Dhviu"
      },
      "execution_count": null,
      "outputs": []
    },
    {
      "cell_type": "markdown",
      "source": [
        "## <font color='blue'> Funciones"
      ],
      "metadata": {
        "id": "UKFMkuOebF2N"
      }
    },
    {
      "cell_type": "markdown",
      "source": [
        "Calcule el promedio de a, b y c, donde: \n",
        "\n",
        "* b = a ** 2\n",
        "* c = b // a"
      ],
      "metadata": {
        "id": "zSQ9cn9Vbyfq"
      }
    },
    {
      "cell_type": "code",
      "source": [
        "# Forma tradicional\n",
        "a = 3\n",
        "b = a ** 2\n",
        "c = b // a      # //: División exacta\n",
        "\n",
        "X = (a + b + c)/3\n",
        "print(f'resultado: {X}')"
      ],
      "metadata": {
        "colab": {
          "base_uri": "https://localhost:8080/"
        },
        "id": "sM86Re1XbIKG",
        "outputId": "b649b9fb-798c-4eff-a44e-c4b10c658601"
      },
      "execution_count": 6,
      "outputs": [
        {
          "output_type": "stream",
          "name": "stdout",
          "text": [
            "resultado: 5.0\n"
          ]
        }
      ]
    },
    {
      "cell_type": "markdown",
      "source": [
        "Ahora, lo haremos utilizando funciones para realizar varios cálculos"
      ],
      "metadata": {
        "id": "joz0kmUabzrN"
      }
    },
    {
      "cell_type": "code",
      "source": [
        "def Funcion_1(a):\n",
        "    b = a ** 2\n",
        "    c = b // a\n",
        "    return (a + b + c)/3\n",
        "\n",
        "a = 10\n",
        "print(f'Para a = {a}, se tiene el resultado: {Funcion_1(a)}')"
      ],
      "metadata": {
        "colab": {
          "base_uri": "https://localhost:8080/"
        },
        "id": "VTyO8hPYbt32",
        "outputId": "702254bb-24d7-44ec-c978-61894aea90f4"
      },
      "execution_count": 7,
      "outputs": [
        {
          "output_type": "stream",
          "name": "stdout",
          "text": [
            "Para a = 10, se tiene el resultado: 40.0\n"
          ]
        }
      ]
    },
    {
      "cell_type": "code",
      "source": [
        "a = 50\n",
        "print(f'Para a = {a}, se tiene el resultado: {Funcion_1(a):.4f}')"
      ],
      "metadata": {
        "colab": {
          "base_uri": "https://localhost:8080/"
        },
        "id": "GB0g50PWc2t1",
        "outputId": "fdb9efce-2d3c-4ab6-e4e7-3a2b3b35819e"
      },
      "execution_count": 9,
      "outputs": [
        {
          "output_type": "stream",
          "name": "stdout",
          "text": [
            "Para a = 50, se tiene el resultado: 866.6667\n"
          ]
        }
      ]
    },
    {
      "cell_type": "code",
      "source": [
        "a = 99999.1\n",
        "print(f'Para a = {a}, se tiene el resultado: {Funcion_1(a):.4f}')"
      ],
      "metadata": {
        "colab": {
          "base_uri": "https://localhost:8080/"
        },
        "id": "mkXd5XBqc9V3",
        "outputId": "445d1b2d-ca0f-4d5d-c565-356c9fee93a3"
      },
      "execution_count": 10,
      "outputs": [
        {
          "output_type": "stream",
          "name": "stdout",
          "text": [
            "Para a = 99999.1, se tiene el resultado: 3333339999.6367\n"
          ]
        }
      ]
    },
    {
      "cell_type": "markdown",
      "source": [
        "## <font color='blue'> Funciones lambda"
      ],
      "metadata": {
        "id": "T0Qn_kJbdDT2"
      }
    },
    {
      "cell_type": "code",
      "source": [
        "Funcion_1 = lambda a: (a + (a ** 2) + (a ** 2 // a))/3\n",
        "\n",
        "a = 10\n",
        "print(f'Para a = {a}, se tiene el resultado: {Funcion_1(a)}')"
      ],
      "metadata": {
        "colab": {
          "base_uri": "https://localhost:8080/"
        },
        "id": "qkctn6yNdCx7",
        "outputId": "156faef6-94d3-4d23-af83-ac1ec0c3582c"
      },
      "execution_count": 11,
      "outputs": [
        {
          "output_type": "stream",
          "name": "stdout",
          "text": [
            "Para a = 10, se tiene el resultado: 40.0\n"
          ]
        }
      ]
    },
    {
      "cell_type": "markdown",
      "source": [
        "Ejercicio: de una serie de números cualquiera, sumar +1 a los números pares"
      ],
      "metadata": {
        "id": "qVTJh2zPgnKm"
      }
    },
    {
      "cell_type": "code",
      "source": [
        "func = lambda x: x + 1 if (x % 2 == 0) else x\n",
        "\n",
        "for i in [1,2,3,4,5,6,7,8,9,10]:\n",
        "    print(f'{i}: {func(i)}')"
      ],
      "metadata": {
        "colab": {
          "base_uri": "https://localhost:8080/"
        },
        "id": "Fx0sVvepgly7",
        "outputId": "0e54ef49-00aa-4bbd-f010-0aa098ea3a11"
      },
      "execution_count": 17,
      "outputs": [
        {
          "output_type": "stream",
          "name": "stdout",
          "text": [
            "1: 1\n",
            "2: 3\n",
            "3: 3\n",
            "4: 5\n",
            "5: 5\n",
            "6: 7\n",
            "7: 7\n",
            "8: 9\n",
            "9: 9\n",
            "10: 11\n"
          ]
        }
      ]
    },
    {
      "cell_type": "code",
      "source": [
        "func_2 = lambda x,y: x + y\n",
        "print(func_2(x = 10, y = 20))"
      ],
      "metadata": {
        "colab": {
          "base_uri": "https://localhost:8080/"
        },
        "id": "iBQj9bccjQwr",
        "outputId": "c20cfefb-9971-497c-9058-761669786715"
      },
      "execution_count": 18,
      "outputs": [
        {
          "output_type": "stream",
          "name": "stdout",
          "text": [
            "30\n"
          ]
        }
      ]
    }
  ]
}