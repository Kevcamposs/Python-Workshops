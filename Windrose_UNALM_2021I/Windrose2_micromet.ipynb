{
  "nbformat": 4,
  "nbformat_minor": 0,
  "metadata": {
    "colab": {
      "name": "Windrose2_micromet.ipynb",
      "provenance": []
    },
    "kernelspec": {
      "name": "python3",
      "display_name": "Python 3"
    },
    "language_info": {
      "name": "python"
    }
  },
  "cells": [
    {
      "cell_type": "markdown",
      "source": [
        "## Librerías"
      ],
      "metadata": {
        "id": "Uca3ur7EmteI"
      }
    },
    {
      "cell_type": "code",
      "source": [
        "!pip install windrose     # Realiza rosa de vientos\n",
        "!pip install simplekml    # Crear archivos KML\n",
        "\n",
        "#!pip install cartopy      # Elementos cartográficos (ejemplo extra)"
      ],
      "metadata": {
        "colab": {
          "base_uri": "https://localhost:8080/"
        },
        "id": "Av-QXj_8mKXg",
        "outputId": "a44f87d8-87f7-484b-db61-fc978e117180"
      },
      "execution_count": 1,
      "outputs": [
        {
          "output_type": "stream",
          "name": "stdout",
          "text": [
            "Collecting windrose\n",
            "  Downloading windrose-1.6.8-py2.py3-none-any.whl (20 kB)\n",
            "Requirement already satisfied: numpy in /usr/local/lib/python3.7/dist-packages (from windrose) (1.21.5)\n",
            "Requirement already satisfied: matplotlib in /usr/local/lib/python3.7/dist-packages (from windrose) (3.2.2)\n",
            "Requirement already satisfied: kiwisolver>=1.0.1 in /usr/local/lib/python3.7/dist-packages (from matplotlib->windrose) (1.3.2)\n",
            "Requirement already satisfied: pyparsing!=2.0.4,!=2.1.2,!=2.1.6,>=2.0.1 in /usr/local/lib/python3.7/dist-packages (from matplotlib->windrose) (3.0.7)\n",
            "Requirement already satisfied: python-dateutil>=2.1 in /usr/local/lib/python3.7/dist-packages (from matplotlib->windrose) (2.8.2)\n",
            "Requirement already satisfied: cycler>=0.10 in /usr/local/lib/python3.7/dist-packages (from matplotlib->windrose) (0.11.0)\n",
            "Requirement already satisfied: six>=1.5 in /usr/local/lib/python3.7/dist-packages (from python-dateutil>=2.1->matplotlib->windrose) (1.15.0)\n",
            "Installing collected packages: windrose\n",
            "Successfully installed windrose-1.6.8\n",
            "Collecting simplekml\n",
            "  Downloading simplekml-1.3.6.tar.gz (52 kB)\n",
            "\u001b[K     |████████████████████████████████| 52 kB 1.1 MB/s \n",
            "\u001b[?25hBuilding wheels for collected packages: simplekml\n",
            "  Building wheel for simplekml (setup.py) ... \u001b[?25l\u001b[?25hdone\n",
            "  Created wheel for simplekml: filename=simplekml-1.3.6-py3-none-any.whl size=65876 sha256=7d05d8d3a9bf270ce187651db186c24298ee21bbe64a41df7498065ae506db1c\n",
            "  Stored in directory: /root/.cache/pip/wheels/5c/ec/e6/10af1a1fb29ffca95151d4c886d6e06fc309c68f46519892de\n",
            "Successfully built simplekml\n",
            "Installing collected packages: simplekml\n",
            "Successfully installed simplekml-1.3.6\n"
          ]
        }
      ]
    },
    {
      "cell_type": "code",
      "source": [
        "import pandas as pd, matplotlib.pyplot as plt"
      ],
      "metadata": {
        "id": "CjsDiuMUMBhC"
      },
      "execution_count": 2,
      "outputs": []
    },
    {
      "cell_type": "markdown",
      "source": [
        "## Lectura de datos"
      ],
      "metadata": {
        "id": "oBI8EjOwmm_t"
      }
    },
    {
      "cell_type": "markdown",
      "source": [
        "**Enlazar a tu carpeta de Google drive**"
      ],
      "metadata": {
        "id": "F377fTeZzzzu"
      }
    },
    {
      "cell_type": "code",
      "source": [
        "# Conexión a Google drive\n",
        "from google.colab import drive\n",
        "drive.mount('/content/drive')"
      ],
      "metadata": {
        "colab": {
          "base_uri": "https://localhost:8080/"
        },
        "id": "cvsyb-z_DuyT",
        "outputId": "f48ada41-fbd7-431b-f0f3-03f9dd1bd62c"
      },
      "execution_count": 3,
      "outputs": [
        {
          "output_type": "stream",
          "name": "stdout",
          "text": [
            "Mounted at /content/drive\n"
          ]
        }
      ]
    },
    {
      "cell_type": "code",
      "source": [
        "# Seleccionar carpeta de trabajo\n",
        "%cd '/content/drive/MyDrive/Aiiuda_meteo/Micro_windrose'"
      ],
      "metadata": {
        "colab": {
          "base_uri": "https://localhost:8080/"
        },
        "id": "hHMSK6AyAUDk",
        "outputId": "bb1de1f6-7a80-44d7-9e8f-40ee49177e17"
      },
      "execution_count": 4,
      "outputs": [
        {
          "output_type": "stream",
          "name": "stdout",
          "text": [
            "/content/drive/MyDrive/Aiiuda_meteo/Micro_windrose\n"
          ]
        }
      ]
    },
    {
      "cell_type": "code",
      "source": [
        "# Carga de datos\n",
        "df = pd.read_csv('VMT_ene2022.csv', sep=',', skiprows = 5, header = 4,             # configuración del archivo\n",
        "                 usecols = [0, 1, 5, 6], names = ['Fecha', 'Hora', 'Dir', 'Vel'],  # seleccionar columnas\n",
        "                 index_col = [0, 1])                                               # detallar índices"
      ],
      "metadata": {
        "id": "_scaJtozJ0Ag"
      },
      "execution_count": 6,
      "outputs": []
    },
    {
      "cell_type": "code",
      "source": [
        "df.head(4)"
      ],
      "metadata": {
        "colab": {
          "base_uri": "https://localhost:8080/",
          "height": 206
        },
        "id": "rR0LtlBMMrIi",
        "outputId": "e01cf5e3-d439-48a7-d756-971173efb1df"
      },
      "execution_count": 9,
      "outputs": [
        {
          "output_type": "execute_result",
          "data": {
            "text/html": [
              "\n",
              "  <div id=\"df-e05ca06e-2469-48a7-adfe-dd2c685e3d0d\">\n",
              "    <div class=\"colab-df-container\">\n",
              "      <div>\n",
              "<style scoped>\n",
              "    .dataframe tbody tr th:only-of-type {\n",
              "        vertical-align: middle;\n",
              "    }\n",
              "\n",
              "    .dataframe tbody tr th {\n",
              "        vertical-align: top;\n",
              "    }\n",
              "\n",
              "    .dataframe thead th {\n",
              "        text-align: right;\n",
              "    }\n",
              "</style>\n",
              "<table border=\"1\" class=\"dataframe\">\n",
              "  <thead>\n",
              "    <tr style=\"text-align: right;\">\n",
              "      <th></th>\n",
              "      <th></th>\n",
              "      <th>Dir</th>\n",
              "      <th>Vel</th>\n",
              "    </tr>\n",
              "    <tr>\n",
              "      <th>Fecha</th>\n",
              "      <th>Hora</th>\n",
              "      <th></th>\n",
              "      <th></th>\n",
              "    </tr>\n",
              "  </thead>\n",
              "  <tbody>\n",
              "    <tr>\n",
              "      <th rowspan=\"4\" valign=\"top\">2022/01/01</th>\n",
              "      <th>00:00</th>\n",
              "      <td>175.50</td>\n",
              "      <td>0.9</td>\n",
              "    </tr>\n",
              "    <tr>\n",
              "      <th>01:00</th>\n",
              "      <td>6.52</td>\n",
              "      <td>0.0</td>\n",
              "    </tr>\n",
              "    <tr>\n",
              "      <th>02:00</th>\n",
              "      <td>224.90</td>\n",
              "      <td>0.6</td>\n",
              "    </tr>\n",
              "    <tr>\n",
              "      <th>03:00</th>\n",
              "      <td>181.50</td>\n",
              "      <td>0.4</td>\n",
              "    </tr>\n",
              "  </tbody>\n",
              "</table>\n",
              "</div>\n",
              "      <button class=\"colab-df-convert\" onclick=\"convertToInteractive('df-e05ca06e-2469-48a7-adfe-dd2c685e3d0d')\"\n",
              "              title=\"Convert this dataframe to an interactive table.\"\n",
              "              style=\"display:none;\">\n",
              "        \n",
              "  <svg xmlns=\"http://www.w3.org/2000/svg\" height=\"24px\"viewBox=\"0 0 24 24\"\n",
              "       width=\"24px\">\n",
              "    <path d=\"M0 0h24v24H0V0z\" fill=\"none\"/>\n",
              "    <path d=\"M18.56 5.44l.94 2.06.94-2.06 2.06-.94-2.06-.94-.94-2.06-.94 2.06-2.06.94zm-11 1L8.5 8.5l.94-2.06 2.06-.94-2.06-.94L8.5 2.5l-.94 2.06-2.06.94zm10 10l.94 2.06.94-2.06 2.06-.94-2.06-.94-.94-2.06-.94 2.06-2.06.94z\"/><path d=\"M17.41 7.96l-1.37-1.37c-.4-.4-.92-.59-1.43-.59-.52 0-1.04.2-1.43.59L10.3 9.45l-7.72 7.72c-.78.78-.78 2.05 0 2.83L4 21.41c.39.39.9.59 1.41.59.51 0 1.02-.2 1.41-.59l7.78-7.78 2.81-2.81c.8-.78.8-2.07 0-2.86zM5.41 20L4 18.59l7.72-7.72 1.47 1.35L5.41 20z\"/>\n",
              "  </svg>\n",
              "      </button>\n",
              "      \n",
              "  <style>\n",
              "    .colab-df-container {\n",
              "      display:flex;\n",
              "      flex-wrap:wrap;\n",
              "      gap: 12px;\n",
              "    }\n",
              "\n",
              "    .colab-df-convert {\n",
              "      background-color: #E8F0FE;\n",
              "      border: none;\n",
              "      border-radius: 50%;\n",
              "      cursor: pointer;\n",
              "      display: none;\n",
              "      fill: #1967D2;\n",
              "      height: 32px;\n",
              "      padding: 0 0 0 0;\n",
              "      width: 32px;\n",
              "    }\n",
              "\n",
              "    .colab-df-convert:hover {\n",
              "      background-color: #E2EBFA;\n",
              "      box-shadow: 0px 1px 2px rgba(60, 64, 67, 0.3), 0px 1px 3px 1px rgba(60, 64, 67, 0.15);\n",
              "      fill: #174EA6;\n",
              "    }\n",
              "\n",
              "    [theme=dark] .colab-df-convert {\n",
              "      background-color: #3B4455;\n",
              "      fill: #D2E3FC;\n",
              "    }\n",
              "\n",
              "    [theme=dark] .colab-df-convert:hover {\n",
              "      background-color: #434B5C;\n",
              "      box-shadow: 0px 1px 3px 1px rgba(0, 0, 0, 0.15);\n",
              "      filter: drop-shadow(0px 1px 2px rgba(0, 0, 0, 0.3));\n",
              "      fill: #FFFFFF;\n",
              "    }\n",
              "  </style>\n",
              "\n",
              "      <script>\n",
              "        const buttonEl =\n",
              "          document.querySelector('#df-e05ca06e-2469-48a7-adfe-dd2c685e3d0d button.colab-df-convert');\n",
              "        buttonEl.style.display =\n",
              "          google.colab.kernel.accessAllowed ? 'block' : 'none';\n",
              "\n",
              "        async function convertToInteractive(key) {\n",
              "          const element = document.querySelector('#df-e05ca06e-2469-48a7-adfe-dd2c685e3d0d');\n",
              "          const dataTable =\n",
              "            await google.colab.kernel.invokeFunction('convertToInteractive',\n",
              "                                                     [key], {});\n",
              "          if (!dataTable) return;\n",
              "\n",
              "          const docLinkHtml = 'Like what you see? Visit the ' +\n",
              "            '<a target=\"_blank\" href=https://colab.research.google.com/notebooks/data_table.ipynb>data table notebook</a>'\n",
              "            + ' to learn more about interactive tables.';\n",
              "          element.innerHTML = '';\n",
              "          dataTable['output_type'] = 'display_data';\n",
              "          await google.colab.output.renderOutput(dataTable, element);\n",
              "          const docLink = document.createElement('div');\n",
              "          docLink.innerHTML = docLinkHtml;\n",
              "          element.appendChild(docLink);\n",
              "        }\n",
              "      </script>\n",
              "    </div>\n",
              "  </div>\n",
              "  "
            ],
            "text/plain": [
              "                     Dir  Vel\n",
              "Fecha      Hora              \n",
              "2022/01/01 00:00  175.50  0.9\n",
              "           01:00    6.52  0.0\n",
              "           02:00  224.90  0.6\n",
              "           03:00  181.50  0.4"
            ]
          },
          "metadata": {},
          "execution_count": 9
        }
      ]
    },
    {
      "cell_type": "code",
      "source": [
        "df.info()"
      ],
      "metadata": {
        "colab": {
          "base_uri": "https://localhost:8080/"
        },
        "id": "KoYvefpXK_zH",
        "outputId": "cf992440-db82-4087-a132-9d79143f754b"
      },
      "execution_count": 8,
      "outputs": [
        {
          "output_type": "stream",
          "name": "stdout",
          "text": [
            "<class 'pandas.core.frame.DataFrame'>\n",
            "MultiIndex: 737 entries, ('2022/01/01', '00:00') to ('2022/01/31', '23:00')\n",
            "Data columns (total 2 columns):\n",
            " #   Column  Non-Null Count  Dtype  \n",
            "---  ------  --------------  -----  \n",
            " 0   Dir     737 non-null    float64\n",
            " 1   Vel     737 non-null    float64\n",
            "dtypes: float64(2)\n",
            "memory usage: 15.1+ KB\n"
          ]
        }
      ]
    },
    {
      "cell_type": "markdown",
      "source": [
        "## Rosa de viento"
      ],
      "metadata": {
        "id": "r6pb5hZUmp8m"
      }
    },
    {
      "cell_type": "code",
      "source": [
        "import windrose"
      ],
      "metadata": {
        "id": "Z-1bIbjimZpg"
      },
      "execution_count": 10,
      "outputs": []
    },
    {
      "cell_type": "code",
      "source": [
        "fig = plt.figure(figsize = (6,6), facecolor = 'none')\n",
        "\n",
        "ax = windrose.WindroseAxes.from_ax(fig = fig)\n",
        "\n",
        "ax.bar(direction = df['Dir'],  # dirección [°]\n",
        "       var = df['Vel'],        # velocidad [m/s2] o [kts]\n",
        "       nsector = 16,           # número de pétalos,\n",
        "       bins = 4,               # número de intervalos de velocidad\n",
        "       #bins = [0., 0.1, 4., 8.],\n",
        "       opening= 0.75,          # grosor del pétalo\n",
        "       edgecolor = None,       # contorno\n",
        "       calm_limit = None,      # círculo de calma\n",
        "       normed = True)          # normalizar (convertir valores entre 0 y 1)\n",
        "\n",
        "ax.set_facecolor('white')      # color interior: blanco\n",
        "#ax.tick_params(labelleft = False, labelbottom = False) # Desactivar ejes\n",
        "\n",
        "ax.set_title('Rosa de viento',    # título\n",
        "             fontsize = 20,       # tamaño de fuente\n",
        "             color = 'darkblue')  # color\n",
        "\n",
        "ax.legend(loc = 1)   # leyenda\n",
        "plt.tight_layout()   # ajuste de bordes\n",
        "\n",
        "# plt.savefig(\"Windrose.png\", dpi = 300, transparent=True)\n",
        "plt.savefig(\"Windrose2.png\", dpi = 300)"
      ],
      "metadata": {
        "colab": {
          "base_uri": "https://localhost:8080/",
          "height": 415
        },
        "id": "4IpBA4wsyn7x",
        "outputId": "d9d0eb4e-430d-4584-aa21-4168f128cdf9"
      },
      "execution_count": 14,
      "outputs": [
        {
          "output_type": "stream",
          "name": "stderr",
          "text": [
            "/usr/local/lib/python3.7/dist-packages/ipykernel_launcher.py:23: UserWarning: This figure includes Axes that are not compatible with tight_layout, so results might be incorrect.\n"
          ]
        },
        {
          "output_type": "display_data",
          "data": {
            "image/png": "[encoded data removed]",
            "text/plain": [
              "<Figure size 432x432 with 1 Axes>"
            ]
          },
          "metadata": {}
        }
      ]
    },
    {
      "cell_type": "code",
      "source": [
        "help(ax.bar)  # Ayuda"
      ],
      "metadata": {
        "id": "J3i0_qt-SiK0",
        "colab": {
          "base_uri": "https://localhost:8080/"
        },
        "outputId": "ef8bb22f-034d-4af5-d207-686de3178dc2"
      },
      "execution_count": 13,
      "outputs": [
        {
          "output_type": "stream",
          "name": "stdout",
          "text": [
            "Help on method bar in module windrose.windrose:\n",
            "\n",
            "bar(direction, var, **kwargs) method of windrose.windrose.WindroseAxes instance\n",
            "    Plot a windrose in bar mode. For each var bins and for each sector,\n",
            "    a colored bar will be draw on the axes.\n",
            "    \n",
            "    Parameters\n",
            "    ----------\n",
            "    direction : 1D array\n",
            "        directions the wind blows from, North centred\n",
            "    var : 1D array\n",
            "        values of the variable to compute. Typically the wind speeds.\n",
            "    \n",
            "    Other Parameters\n",
            "    ----------------\n",
            "    nsector : integer, optional\n",
            "        number of sectors used to compute the windrose table. If not set,\n",
            "        nsectors=16, then each sector will be 360/16=22.5°, and the\n",
            "        resulting computed table will be aligned with the cardinals points.\n",
            "    bins : 1D array or integer, optional\n",
            "        number of bins, or a sequence of bins variable. If not set, bins=6\n",
            "        between min(`var`) and max(`var`).\n",
            "    blowto : bool, optional.\n",
            "        if True, the windrose will be pi rotated, to show where the wind\n",
            "        blow to (usefull for pollutant rose).\n",
            "    colors : string or tuple, optional\n",
            "        one string color ('k' or 'black'), in this case all bins will be\n",
            "        plotted in this color; a tuple of matplotlib color args (string,\n",
            "        float, rgb, etc), different levels will be plotted\n",
            "        in different colors in the order specified.\n",
            "    cmap : a cm Colormap instance from :obj:`matplotlib.cm`, optional.\n",
            "        if cmap == None and colors == None, a default Colormap is used.\n",
            "    edgecolor : string, optional\n",
            "        The string color each edge box will be plotted.\n",
            "        Default : no edgecolor\n",
            "    opening : float, optional\n",
            "        between 0.0 and 1.0, to control the space between each sector (1.0\n",
            "        for no space)\n",
            "\n"
          ]
        }
      ]
    },
    {
      "cell_type": "markdown",
      "source": [
        "#### Histograma"
      ],
      "metadata": {
        "id": "WjN504uu_6rT"
      }
    },
    {
      "cell_type": "code",
      "source": [
        "df['Class'] = 0\n",
        "\n",
        "df.loc[(df['Vel'] >= 0.0) & (df['Vel'] < 0.6), 'Class'] = 0\n",
        "df.loc[(df['Vel'] >= 0.6) & (df['Vel'] < 1.2), 'Class'] = 1\n",
        "df.loc[(df['Vel'] >= 1.2) & (df['Vel'] < 1.9), 'Class'] = 2\n",
        "df.loc[(df['Vel'] >= 1.9) & (df['Vel'] < 2.5), 'Class'] = 3\n",
        "df.loc[(df['Vel'] >= 2.5) & (df['Vel'] < 3.1), 'Class']  = 4\n",
        "df.loc[(df['Vel'] >= 3.1), 'Class'] = 5"
      ],
      "metadata": {
        "id": "RoTvwHX87L-8"
      },
      "execution_count": null,
      "outputs": []
    },
    {
      "cell_type": "code",
      "source": [
        "import seaborn as sns\n",
        "sns.histplot(data = df, x = 'Dir', bins = 16, hue = 'Class', multiple=\"stack\", palette = 'tab10')"
      ],
      "metadata": {
        "colab": {
          "base_uri": "https://localhost:8080/",
          "height": 296
        },
        "id": "GLidlqaG5wVH",
        "outputId": "7b443d89-3a5d-4d61-964b-8a2b029843af"
      },
      "execution_count": null,
      "outputs": [
        {
          "output_type": "execute_result",
          "data": {
            "text/plain": [
              "<matplotlib.axes._subplots.AxesSubplot at 0x7f91cfc2ae10>"
            ]
          },
          "metadata": {},
          "execution_count": 124
        },
        {
          "output_type": "display_data",
          "data": {
            "image/png": "[encoded data removed]",
            "text/plain": [
              "<Figure size 432x288 with 1 Axes>"
            ]
          },
          "metadata": {
            "needs_background": "light"
          }
        }
      ]
    },
    {
      "cell_type": "markdown",
      "source": [
        "## Exportar a KML"
      ],
      "metadata": {
        "id": "pf34grWuBfBr"
      }
    },
    {
      "cell_type": "code",
      "source": [
        "def Deg_S(grados, minuto, seg):  # grados y minutos --> decimales (hemisferio sur)\n",
        "    return (-1)*(grados + minuto*1/60 + seg*1/3600)"
      ],
      "metadata": {
        "id": "4YlpMFYTPkdk"
      },
      "execution_count": 15,
      "outputs": []
    },
    {
      "cell_type": "code",
      "source": [
        "lat = Deg_S(grados = 12., minuto = 9., seg = 59.)\n",
        "lon = Deg_S(grados = 76., minuto = 55., seg = 12.)\n",
        "print(f'Longitud: {lon:.4f}\\nLatitud: {lat:.4f}')"
      ],
      "metadata": {
        "colab": {
          "base_uri": "https://localhost:8080/"
        },
        "id": "6Z4jfPpahTjH",
        "outputId": "0d35d587-0511-495f-a5ea-b6f913b40b13"
      },
      "execution_count": 16,
      "outputs": [
        {
          "output_type": "stream",
          "name": "stdout",
          "text": [
            "Longitud: -76.9200\n",
            "Latitud: -12.1664\n"
          ]
        }
      ]
    },
    {
      "cell_type": "code",
      "source": [
        "import simplekml\n",
        "\n",
        "# Creamos el objeto: kml, contiene todos los métodos necesarios para crear archivos .KML\n",
        "kml = simplekml.Kml()    \n",
        "\n",
        "kml.document.name = 'Estaciones SENAMHI'  # Nombre del documento KML\n",
        "\n",
        "point = kml.newpoint(name = 'VMT - estación',       # Nombre del punto\n",
        "                     coords = [(lon, lat)])  # Ubicación geográfica\n",
        "\n",
        "# Ícono\n",
        "point.style.iconstyle.icon.href = 'https://drive.google.com/thumbnail?id=1mAmnDBWEiyr3jSNfTEdRutiWEj31zB4x'\n",
        "point.style.iconstyle.scale = 6  # Escala de la imagen\n",
        "\n",
        "kml.save(\"windrose_1.kml\")\n",
        "\n",
        "print(kml.kml())  # Observar el árbol formado"
      ],
      "metadata": {
        "colab": {
          "base_uri": "https://localhost:8080/"
        },
        "id": "w-F_-hhPqQ1l",
        "outputId": "fa83f58e-bba4-43d1-fac8-05cfe04d8da1"
      },
      "execution_count": null,
      "outputs": [
        {
          "output_type": "stream",
          "name": "stdout",
          "text": [
            "<?xml version=\"1.0\" encoding=\"UTF-8\"?>\n",
            "<kml xmlns=\"http://www.opengis.net/kml/2.2\" xmlns:gx=\"http://www.google.com/kml/ext/2.2\">\n",
            "    <Document id=\"71\">\n",
            "        <Style id=\"74\">\n",
            "            <IconStyle id=\"75\">\n",
            "                <colorMode>normal</colorMode>\n",
            "                <scale>6</scale>\n",
            "                <heading>0</heading>\n",
            "                <Icon id=\"76\">\n",
            "                    <href>https://drive.google.com/thumbnail?id=1mAmnDBWEiyr3jSNfTEdRutiWEj31zB4x</href>\n",
            "                </Icon>\n",
            "            </IconStyle>\n",
            "        </Style>\n",
            "        <name>Estaciones SENAMHI</name>\n",
            "        <Placemark id=\"73\">\n",
            "            <name>VMT - estación</name>\n",
            "            <styleUrl>#74</styleUrl>\n",
            "            <Point id=\"72\">\n",
            "                <coordinates>-76.92,-12.16638888888889,0.0</coordinates>\n",
            "            </Point>\n",
            "        </Placemark>\n",
            "    </Document>\n",
            "</kml>\n",
            "\n"
          ]
        }
      ]
    },
    {
      "cell_type": "code",
      "source": [
        "import simplekml\n",
        "\n",
        "kml2 = simplekml.Kml()    \n",
        "\n",
        "kml2.document.name = 'Estaciones SENAMHI 2'  # Nombre del documento KML\n",
        "\n",
        "point = kml2.newpoint(name = 'VMT - estación', coords = [(lon, lat)]) # nuevo punto\n",
        "point.style.iconstyle.icon.href = 'https://drive.google.com/thumbnail?id=1mAmnDBWEiyr3jSNfTEdRutiWEj31zB4x'\n",
        "point.style.iconstyle.scale = 4    # Escala de la imagen\n",
        "\n",
        "unalm = kml2.newpoint(name = 'unalm', coords = [(-76.951083, -12.080054)])\n",
        "unalm.style.iconstyle.icon.href = 'https://drive.google.com/thumbnail?id=18suO2uxe5_7lxCaih_UgNjX8mjl_EHNu'\n",
        "unalm.style.iconstyle.scale = 3\n",
        "\n",
        "cat = kml2.newpoint(name = 'gato', coords = [(-77.142302, -12.059423)])\n",
        "cat.style.iconstyle.icon.href = 'https://drive.google.com/thumbnail?id=1jaLn0Qo3G3T8CJhd4zlFEL8WCPbB7fRU'\n",
        "cat.style.iconstyle.scale = 3\n",
        "\n",
        "kml2.save(\"windrose_2.kml\")\n",
        "\n",
        "print(kml2.kml())  # Observar el árbol formado"
      ],
      "metadata": {
        "id": "Q5ylJeIMSNp-",
        "colab": {
          "base_uri": "https://localhost:8080/"
        },
        "outputId": "303b6664-9571-4251-dc13-2d4f8dd78ea3"
      },
      "execution_count": 17,
      "outputs": [
        {
          "output_type": "stream",
          "name": "stdout",
          "text": [
            "<?xml version=\"1.0\" encoding=\"UTF-8\"?>\n",
            "<kml xmlns=\"http://www.opengis.net/kml/2.2\" xmlns:gx=\"http://www.google.com/kml/ext/2.2\">\n",
            "    <Document id=\"1\">\n",
            "        <Style id=\"4\">\n",
            "            <IconStyle id=\"5\">\n",
            "                <colorMode>normal</colorMode>\n",
            "                <scale>4</scale>\n",
            "                <heading>0</heading>\n",
            "                <Icon id=\"6\">\n",
            "                    <href>https://drive.google.com/thumbnail?id=1mAmnDBWEiyr3jSNfTEdRutiWEj31zB4x</href>\n",
            "                </Icon>\n",
            "            </IconStyle>\n",
            "        </Style>\n",
            "        <Style id=\"9\">\n",
            "            <IconStyle id=\"10\">\n",
            "                <colorMode>normal</colorMode>\n",
            "                <scale>3</scale>\n",
            "                <heading>0</heading>\n",
            "                <Icon id=\"11\">\n",
            "                    <href>https://drive.google.com/thumbnail?id=18suO2uxe5_7lxCaih_UgNjX8mjl_EHNu</href>\n",
            "                </Icon>\n",
            "            </IconStyle>\n",
            "        </Style>\n",
            "        <Style id=\"14\">\n",
            "            <IconStyle id=\"15\">\n",
            "                <colorMode>normal</colorMode>\n",
            "                <scale>3</scale>\n",
            "                <heading>0</heading>\n",
            "                <Icon id=\"16\">\n",
            "                    <href>https://drive.google.com/thumbnail?id=1jaLn0Qo3G3T8CJhd4zlFEL8WCPbB7fRU</href>\n",
            "                </Icon>\n",
            "            </IconStyle>\n",
            "        </Style>\n",
            "        <name>Estaciones SENAMHI 2</name>\n",
            "        <Placemark id=\"3\">\n",
            "            <name>VMT - estación</name>\n",
            "            <styleUrl>#4</styleUrl>\n",
            "            <Point id=\"2\">\n",
            "                <coordinates>-76.92,-12.16638888888889,0.0</coordinates>\n",
            "            </Point>\n",
            "        </Placemark>\n",
            "        <Placemark id=\"8\">\n",
            "            <name>unalm</name>\n",
            "            <styleUrl>#9</styleUrl>\n",
            "            <Point id=\"7\">\n",
            "                <coordinates>-76.951083,-12.080054,0.0</coordinates>\n",
            "            </Point>\n",
            "        </Placemark>\n",
            "        <Placemark id=\"13\">\n",
            "            <name>gato</name>\n",
            "            <styleUrl>#14</styleUrl>\n",
            "            <Point id=\"12\">\n",
            "                <coordinates>-77.142302,-12.059423,0.0</coordinates>\n",
            "            </Point>\n",
            "        </Placemark>\n",
            "    </Document>\n",
            "</kml>\n",
            "\n"
          ]
        }
      ]
    },
    {
      "cell_type": "markdown",
      "source": [
        "## Rosa de viento sobre mapa"
      ],
      "metadata": {
        "id": "kc6AnoeHnR5l"
      }
    },
    {
      "cell_type": "markdown",
      "source": [
        "Importante: Google Colaboratory no soporta este proceso, lo mejor es usar Jupyter Notebook, Spyder u otro IDLE Python.\n",
        "\n",
        "Librerías requeridas:\n",
        "* windrose\n",
        "* cartopy"
      ],
      "metadata": {
        "id": "3ssOnKwiamcu"
      }
    },
    {
      "cell_type": "markdown",
      "source": [
        "![Resultado](https://drive.google.com/thumbnail?id=183X8QGOMb_XfDSecCSywJkOqCjIE5zvD&sz=w800)"
      ],
      "metadata": {
        "id": "UhkMtfBMbEVF"
      }
    },
    {
      "cell_type": "code",
      "source": [
        "\"\"\"\n",
        "import pandas as pd, matplotlib.pyplot as plt, numpy as np\n",
        "import cartopy.crs as ccrs\n",
        "import cartopy.io.img_tiles as cimgt\n",
        "from mpl_toolkits.axes_grid.inset_locator import inset_axes\n",
        "\n",
        "import windrose\n",
        "\n",
        "lat = Deg_S(grados = 12., minuto = 9., seg = 59.)\n",
        "lon = Deg_S(grados = 76., minuto = 55., seg = 12.)\n",
        "print(f'Coordenadas de la estación: {lon:.3f}, {lat:.3f}')\n",
        "\n",
        "dlon, dlat = (0.5, 0.15) # Variación de tamaño del mapa\n",
        "\n",
        "minlon, maxlon, minlat, maxlat = (lon - dlon, lon + dlon, lat - dlat, lat + dlat)\n",
        "\n",
        "proj = ccrs.PlateCarree()\n",
        "\n",
        "fig = plt.figure(figsize=(12, 6))\n",
        "#####################################\n",
        "main_ax = fig.add_subplot(1, 1, 1, projection=proj)\n",
        "main_ax.set_extent([minlon, maxlon, minlat, maxlat], crs=proj)\n",
        "main_ax.gridlines(draw_labels=True)\n",
        "#main_ax.coastlines()\n",
        "main_ax.set_title('Estación Villa María del Triunfo, Lima, Perú - enero 2022')\n",
        "\n",
        "request = cimgt.OSM()\n",
        "main_ax.add_image(request, 12)\n",
        "\n",
        "height_deg = 0.1   # variación del tamaño de la rosa\n",
        "VMT = inset_axes(main_ax,\n",
        "        width=\"100%\", height=\"100%\", \n",
        "        bbox_to_anchor=(lon-height_deg/2, lat-height_deg/2, height_deg, height_deg),\n",
        "        bbox_transform=main_ax.transData,\n",
        "        axes_class=windrose.WindroseAxes)\n",
        "\n",
        "VMT.bar(df['Dir'], df['Vel'])   # Gráficar rosa de viento\n",
        "VMT.tick_params(labelleft=False, labelbottom=False) # Desactivar ejes\n",
        "\n",
        "plt.savefig('windrose_VMT_map.jpg', dpi = 300)\n",
        "\"\"\""
      ],
      "metadata": {
        "colab": {
          "base_uri": "https://localhost:8080/"
        },
        "id": "fFAQSal4m2bG",
        "outputId": "8a16353a-67b2-4416-d555-8c058f12a81e"
      },
      "execution_count": null,
      "outputs": [
        {
          "output_type": "stream",
          "name": "stderr",
          "text": [
            "Geometry must be a Point or LineString\n"
          ]
        }
      ]
    }
  ]
}